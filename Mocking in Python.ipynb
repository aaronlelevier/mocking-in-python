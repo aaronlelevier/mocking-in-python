{
 "cells": [
  {
   "cell_type": "markdown",
   "metadata": {
    "slideshow": {
     "slide_type": "slide"
    }
   },
   "source": [
    "# Mocking in Python\n",
    "\n",
    "## by Aaron Lelevier"
   ]
  },
  {
   "cell_type": "markdown",
   "metadata": {
    "slideshow": {
     "slide_type": "slide"
    }
   },
   "source": [
    "# About Me\n",
    "\n",
    "### Full time Python Django Dev for 2.5 years\n",
    "\n",
    "### Programmed in Python for 5 years\n",
    "\n",
    "### Other Languages\n",
    "\n",
    "### Recently Machine Learning"
   ]
  },
  {
   "cell_type": "markdown",
   "metadata": {
    "slideshow": {
     "slide_type": "slide"
    }
   },
   "source": [
    "# Inspiration\n",
    "- Mock for long running requests\n",
    "- Can't always make live requests\n",
    "\n",
    "  - 406 - duplicate request error\n",
    "  - for predictable response data\n",
    "  \n",
    "# Assumptions for this talk\n",
    "\n",
    "```python\n",
    "# pip install mock\n",
    "\n",
    "from mock import MagicMock, patch\n",
    "```\n",
    "\n",
    "## Other Assumptions\n",
    "- Python 3\n",
    "- All files are at the same folder level"
   ]
  },
  {
   "cell_type": "markdown",
   "metadata": {
    "slideshow": {
     "slide_type": "slide"
    }
   },
   "source": [
    "# Mock at the call site\n",
    "\n",
    "```python\n",
    "# bar.py\n",
    "class Bar(object):\n",
    "\n",
    "    def biz(self):\n",
    "        pass\n",
    "\n",
    "# foo.py\n",
    "from bar import Bar\n",
    "\n",
    "def foo():\n",
    "    Bar().biz()\n",
    "\n",
    "# test.py\n",
    "import unittest\n",
    "from mock import patch\n",
    "from foo import foo\n",
    "\n",
    "class MyTest(unittest.TestCase):\n",
    "\n",
    "    @patch(\"foo.Bar.biz\") # not -> @patch(\"bar.Bar.biz\")\n",
    "    def test_foo(self, mock_biz):\n",
    "        self.assertFalse(mock_biz.called)\n",
    "\n",
    "        foo()\n",
    "\n",
    "        self.assertTrue(mock_biz.called)\n",
    "```"
   ]
  },
  {
   "cell_type": "markdown",
   "metadata": {
    "slideshow": {
     "slide_type": "slide"
    }
   },
   "source": [
    "# Mock two things\n",
    "\n",
    "```python\n",
    "# bar.py\n",
    "import requests\n",
    "\n",
    "class Bar(object):\n",
    "\n",
    "    def sync(self, id, query_first):\n",
    "        if query_first:\n",
    "            requests.get('/remote/api/{id}'.format(id=id))\n",
    "\n",
    "        requests.put('/remote/other/api/{id}'.format(id=id),\n",
    "                                                     data=current_data())\n",
    "\n",
    "# test.py\n",
    "import unittest\n",
    "from mock import patch\n",
    "from bar import Bar\n",
    "\n",
    "class MyTest(unittest.TestCase):\n",
    "\n",
    "    @patch(\"bar.requests.get\")\n",
    "    @patch(\"bar.requests.put\")\n",
    "    def test_foo(self, mock_put, mock_get):\n",
    "        Bar.sync(id=42, query_first=False)\n",
    "\n",
    "        self.assertFalse(mock_get.called)\n",
    "        self.assertTrue(mock_put.called)\n",
    "```"
   ]
  },
  {
   "cell_type": "markdown",
   "metadata": {
    "slideshow": {
     "slide_type": "slide"
    }
   },
   "source": [
    "# Mock as an Argument Captor\n",
    "\n",
    "```python\n",
    "# bar.py\n",
    "class Bar(object):\n",
    "    def biz(self, url, method, data, headers):\n",
    "        pass\n",
    "\n",
    "# foo.py\n",
    "from bar import Bar\n",
    "\n",
    "def foo(url, method='GET', data=None, headers=None):\n",
    "    Bar().biz(url, method, data, headers)\n",
    "\n",
    "# test.py\n",
    "class MyTest(unittest.TestCase):\n",
    "\n",
    "    @patch(\"foo.Bar.biz\")\n",
    "    def test_foo(self, mock_biz):\n",
    "        url = '/api/users/{id}'.format(id=1)\n",
    "        data = {'phone_number': '+17025551000'}\n",
    "        method = 'PUT'\n",
    "        headers = {\"Authorization\": \"JWT <your_token>\"}\n",
    "\n",
    "        foo(url, method, data=data, headers=headers)\n",
    "\n",
    "        self.assertFalse(mock_biz.called)\n",
    "        self.assertEqual(mock_biz.call_count, 1)\n",
    "        self.assertEqual(mock_biz.call_args[0][0], url)\n",
    "        self.assertEqual(mock_biz.call_args[0][1], method)\n",
    "        self.assertEqual(mock_biz.call_args[1]['data'], data)\n",
    "        self.assertEqual(mock_biz.call_args[1]['headers'], headers)\n",
    "```"
   ]
  },
  {
   "cell_type": "markdown",
   "metadata": {
    "slideshow": {
     "slide_type": "slide"
    }
   },
   "source": [
    "# Mock a return value\n",
    "\n",
    "```python\n",
    "# bar.py\n",
    "class Bar(object):\n",
    "\n",
    "    def biz(self):\n",
    "        return 1\n",
    "\n",
    "# foo.py\n",
    "from bar import Bar\n",
    "\n",
    "def foo():\n",
    "    return Bar().biz()\n",
    "\n",
    "# test.py\n",
    "class MyTest(unittest.TestCase):\n",
    "\n",
    "    @patch(\"foo.Bar.biz\")\n",
    "    def test_foo(self, mock_biz):\n",
    "        expected_value = 2\n",
    "        mock_biz.return_value = expected_value\n",
    "        \n",
    "        ret = foo()\n",
    "        \n",
    "        self.assertEqual(ret, expected_value)\n",
    "```"
   ]
  },
  {
   "cell_type": "markdown",
   "metadata": {
    "slideshow": {
     "slide_type": "slide"
    }
   },
   "source": [
    "# Mock multiple return values\n",
    "\n",
    "```python\n",
    "# bar.py\n",
    "class Bar(object):\n",
    "    def biz(self, i):\n",
    "        return expensive_computation(i)\n",
    "    \n",
    "    def expensive_computation(self, i):\n",
    "        pass\n",
    "\n",
    "# foo.py\n",
    "def foo():\n",
    "    bar = Bar()\n",
    "    for i in range(2):\n",
    "        value = bar.biz(i)\n",
    "        process_expensive_value(value)\n",
    "    \n",
    "# test.py\n",
    "class MyTest(unittest.TestCase):\n",
    "    @patch(\"bar.Bar.expensive_computation\")\n",
    "    @patch(\"foo.process_expensive_value\")\n",
    "    def test_foo(self, mock_process_exp_val, mock_exp_comp):\n",
    "        value1 = 1\n",
    "        value2 = 2\n",
    "        mock_exp_comp.side_effect = [value1, value2]\n",
    "        \n",
    "        foo()\n",
    "        \n",
    "        self.assertTrue(mock_exp_comp.called)\n",
    "        self.assertEqual(mock_exp_comp.call_count, 2)\n",
    "        self.assertEqual(mock_process_exp_val.call_args_list[0][0][0], value1)\n",
    "        self.assertEqual(mock_process_exp_val.call_args_list[1][0][0], value2)\n",
    "```"
   ]
  },
  {
   "cell_type": "markdown",
   "metadata": {
    "slideshow": {
     "slide_type": "slide"
    }
   },
   "source": [
    "# Mock an Exception\n",
    "\n",
    "```python\n",
    "# bar.py\n",
    "class Bar(object):\n",
    "    def biz(self):\n",
    "        if some_condition():\n",
    "            raise CustomException()\n",
    "\n",
    "class CustomException(Exception):\n",
    "    pass\n",
    "            \n",
    "# foo.py\n",
    "from bar import Bar\n",
    "\n",
    "def foo():\n",
    "    Bar().biz()\n",
    "\n",
    "# test.py\n",
    "class MyTest(unittest.TestCase):\n",
    "\n",
    "    @patch(\"foo.Bar.biz\")\n",
    "    def test_foo(self, mock_biz):\n",
    "        mock_biz.side_effect = CustomException()\n",
    "        \n",
    "        with self.assertRaises(CustomException):\n",
    "            foo()\n",
    "```"
   ]
  },
  {
   "cell_type": "markdown",
   "metadata": {
    "slideshow": {
     "slide_type": "slide"
    }
   },
   "source": [
    "```python\n",
    "# bar.py\n",
    "import requests\n",
    "\n",
    "class Bar(object):\n",
    "    def biz(self):\n",
    "        return requests.get('/api/users/')\n",
    "\n",
    "# foo.py\n",
    "from bar import Bar\n",
    "\n",
    "def foo():\n",
    "    response = Bar().biz()\n",
    "    if response.status_code == 200:\n",
    "        data = json.loads(response.content.decode('utf8'))\n",
    "        process_users_data(data)\n",
    "\n",
    "def process_users_data(data):\n",
    "    pass\n",
    "\n",
    "# test.py\n",
    "from pretend import stub\n",
    "\n",
    "class MyTest(unittest.TestCase):\n",
    "    @patch(\"bar.requests.get\")\n",
    "    @patch(\"foo.process_users_data\")\n",
    "    def test_foo(self, mock_process_users_data, mock_get):\n",
    "        fake_reponse = stub(status_code=200,\n",
    "                            content=json.dumps({'users': 'data'}).encode('utf8'))\n",
    "        mock_get.return_value = fake_reponse\n",
    "        foo()\n",
    "        self.assertTrue(mock_process_users_data.called)\n",
    "        self.assertEqual(\n",
    "            mock_process_users_data.call_args[0][0],\n",
    "            json.loads(fake_reponse.content.decode('utf8')))\n",
    "```"
   ]
  },
  {
   "cell_type": "markdown",
   "metadata": {
    "slideshow": {
     "slide_type": "slide"
    }
   },
   "source": [
    "# The End\n",
    "\n",
    "# Questions?"
   ]
  },
  {
   "cell_type": "code",
   "execution_count": null,
   "metadata": {},
   "outputs": [],
   "source": []
  }
 ],
 "metadata": {
  "celltoolbar": "Slideshow",
  "kernelspec": {
   "display_name": "Python 3",
   "language": "python",
   "name": "python3"
  },
  "language_info": {
   "codemirror_mode": {
    "name": "ipython",
    "version": 3
   },
   "file_extension": ".py",
   "mimetype": "text/x-python",
   "name": "python",
   "nbconvert_exporter": "python",
   "pygments_lexer": "ipython3",
   "version": "3.6.2"
  }
 },
 "nbformat": 4,
 "nbformat_minor": 2
}
